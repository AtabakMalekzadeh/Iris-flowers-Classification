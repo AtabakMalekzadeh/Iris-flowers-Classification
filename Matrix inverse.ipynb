{
 "cells": [
  {
   "cell_type": "code",
   "execution_count": 28,
   "id": "e9db63a0",
   "metadata": {},
   "outputs": [],
   "source": [
    "import numpy as np\n",
    "import copy"
   ]
  },
  {
   "cell_type": "code",
   "execution_count": 29,
   "id": "14d13eca",
   "metadata": {},
   "outputs": [
    {
     "data": {
      "text/plain": [
       "[[0, 0, 1], [-2, 1, 3], [3, -1, -5]]"
      ]
     },
     "execution_count": 29,
     "metadata": {},
     "output_type": "execute_result"
    }
   ],
   "source": [
    "matrix = [\n",
    "    [2, 1, 1],\n",
    "    [1, 3, 2],\n",
    "    [1, 0, 0]\n",
    "]\n",
    "\n",
    "def unitary_matrix(matrix):\n",
    "    rows = len(matrix)\n",
    "    cols = len(matrix[0])\n",
    "    new_matrix = [[0]*cols for _ in range(rows)]\n",
    "    for i in range(min(rows, cols)):\n",
    "        new_matrix[i][i] = 1\n",
    "    return new_matrix\n",
    "\n",
    "def Composite_matrix(matrix, unitary):\n",
    "    rows = len(matrix)\n",
    "    composite = []\n",
    "    for i in range(rows):\n",
    "        composite.append(matrix[i] + unitary[i])\n",
    "    return composite\n",
    "\n",
    "def swap_if_zero(matrix, row):\n",
    "    if matrix[row][row] == 0:\n",
    "        for i in range(row + 1, len(matrix)):\n",
    "            if matrix[i][row] != 0:\n",
    "                matrix[row], matrix[i] = matrix[i], matrix[row]\n",
    "                return True\n",
    "        return False\n",
    "    return True\n",
    "\n",
    "def pivots(matrix, row):\n",
    "    n = len(matrix[0])\n",
    "    pivot = matrix[row][row]\n",
    "    for i in range(n):\n",
    "        matrix[row][i] = matrix[row][i] / pivot\n",
    "    return matrix\n",
    "\n",
    "def factors(matrix, row):\n",
    "    rows = len(matrix)\n",
    "    n = len(matrix[0])\n",
    "    for i in range(rows):\n",
    "        if i != row:\n",
    "            factor = matrix[i][row]\n",
    "            for j in range(n):\n",
    "                matrix[i][j] = matrix[i][j] - (factor * matrix[row][j])\n",
    "    return matrix\n",
    "\n",
    "def inverse_matrix(matrix):\n",
    "    rows = len(matrix)\n",
    "    for i in range(rows):\n",
    "        if not swap_if_zero(matrix, i):\n",
    "            raise ValueError(f\"Pivot is zero and cannot be fixed at row {i}\")\n",
    "        pivots(matrix, i)\n",
    "        factors(matrix, i)\n",
    "    return matrix\n",
    "\n",
    "unitary_1 = unitary_matrix(matrix)\n",
    "composite_1 = Composite_matrix(matrix, unitary_1)\n",
    "result = inverse_matrix(composite_1)\n",
    "\n",
    "n = len(result)\n",
    "row = len(result[0])\n",
    "lastmatrix = []\n",
    "for i in range(n):\n",
    "    newmatrix = []\n",
    "    for j in range(row):\n",
    "        if j > 2:\n",
    "            newmatrix.append(result[i][j])\n",
    "    lastmatrix.append(newmatrix)\n",
    "\n",
    "for i in range(n):\n",
    "    for j in range(n):\n",
    "        lastmatrix[i][j] = round(lastmatrix[i][j])\n",
    "lastmatrix"
   ]
  },
  {
   "cell_type": "code",
   "execution_count": null,
   "id": "a8087ffe",
   "metadata": {},
   "outputs": [],
   "source": []
  },
  {
   "cell_type": "code",
   "execution_count": null,
   "id": "862b54ef",
   "metadata": {},
   "outputs": [],
   "source": []
  },
  {
   "cell_type": "markdown",
   "id": "512e9bce",
   "metadata": {},
   "source": [
    "# you dont need to read that part its just my work flow"
   ]
  },
  {
   "cell_type": "code",
   "execution_count": 2,
   "id": "1967a0d3",
   "metadata": {},
   "outputs": [],
   "source": [
    "def Tmatrix(matrix):\n",
    "    \n",
    "    rows = len(matrix)\n",
    "    cols = len(matrix[0])\n",
    "    \n",
    "    tm = []\n",
    "    for i in range(cols):\n",
    "        new_row =  []\n",
    "        for j in range(rows):\n",
    "            new_row.append(matrix[j][i])\n",
    "        tm.append(new_row)\n",
    "        \n",
    "        matr = np.array(tm)\n",
    "        \n",
    "    return matr"
   ]
  },
  {
   "cell_type": "code",
   "execution_count": 3,
   "id": "5c191f40",
   "metadata": {},
   "outputs": [
    {
     "data": {
      "text/plain": [
       "array([[1, 4, 7],\n",
       "       [2, 5, 8],\n",
       "       [3, 6, 9]])"
      ]
     },
     "execution_count": 3,
     "metadata": {},
     "output_type": "execute_result"
    }
   ],
   "source": [
    "matrix_1 = [[1,2,3],\n",
    "            [4,5,6],\n",
    "            [7,8,9]]\n",
    "\n",
    "Tmatrix(matrix_1)"
   ]
  },
  {
   "cell_type": "code",
   "execution_count": 14,
   "id": "8102bfb5",
   "metadata": {},
   "outputs": [],
   "source": [
    "matrix = [\n",
    "    [2, 1, 1],\n",
    "    [1, 3, 2],\n",
    "    [1, 0, 0]\n",
    "]"
   ]
  },
  {
   "cell_type": "code",
   "execution_count": 15,
   "id": "8d705110",
   "metadata": {},
   "outputs": [],
   "source": [
    "def yekani(matrix):\n",
    "    \n",
    "    rows = len(matrix[0])\n",
    "    cols = len(matrix[0:])\n",
    "    \n",
    "    new_matrix = [[0]*rows for _ in range(rows)]\n",
    "    \n",
    "    \n",
    "    for i in range(rows):\n",
    "        for j in range(cols):\n",
    "            if i == j:\n",
    "                new_matrix[i][j] = 1\n",
    "            else:\n",
    "                new_matrix[i][j] = 0\n",
    "    return new_matrix"
   ]
  },
  {
   "cell_type": "code",
   "execution_count": 16,
   "id": "8581a550",
   "metadata": {},
   "outputs": [
    {
     "data": {
      "text/plain": [
       "[[1, 0, 0], [0, 1, 0], [0, 0, 1]]"
      ]
     },
     "execution_count": 16,
     "metadata": {},
     "output_type": "execute_result"
    }
   ],
   "source": [
    "a1 = yekani(matrix_1)\n",
    "a1"
   ]
  },
  {
   "cell_type": "code",
   "execution_count": 17,
   "id": "3a2badde",
   "metadata": {},
   "outputs": [],
   "source": [
    "def bigmatrix(matrix,yekanim):\n",
    "    rows = len(matrix)\n",
    "    big = []\n",
    "    for i in range(rows):\n",
    "        big.append(matrix[i] + yekanim[i])\n",
    "     \n",
    "    return big"
   ]
  },
  {
   "cell_type": "code",
   "execution_count": 18,
   "id": "f4757b4e",
   "metadata": {},
   "outputs": [],
   "source": [
    "def work(matrix, row):\n",
    "    \n",
    "    n = len(matrix[0])\n",
    "    piovt = matrix[row][row]\n",
    "    \n",
    "    for i in range(n):\n",
    "        \n",
    "        matrix[row][i] = matrix[row][i] / piovt\n",
    "        \n",
    "    return matrix"
   ]
  },
  {
   "cell_type": "code",
   "execution_count": 19,
   "id": "a43f4eaa",
   "metadata": {},
   "outputs": [],
   "source": [
    "yek = yekani(matrix)"
   ]
  },
  {
   "cell_type": "code",
   "execution_count": 20,
   "id": "8db5c280",
   "metadata": {},
   "outputs": [],
   "source": [
    "def bigmatrix(matrix,yekanim):\n",
    "    rows = len(matrix)\n",
    "    big = []\n",
    "    for i in range(rows):\n",
    "        big.append(matrix[i] + yekanim[i])\n",
    "     \n",
    "    return big"
   ]
  },
  {
   "cell_type": "code",
   "execution_count": 21,
   "id": "819f103d",
   "metadata": {},
   "outputs": [
    {
     "data": {
      "text/plain": [
       "[[2, 1, 1, 1, 0, 0], [1, 3, 2, 0, 1, 0], [1, 0, 0, 0, 0, 1]]"
      ]
     },
     "execution_count": 21,
     "metadata": {},
     "output_type": "execute_result"
    }
   ],
   "source": [
    "bigger = bigmatrix(matrix,yek)\n",
    "bigger"
   ]
  },
  {
   "cell_type": "code",
   "execution_count": 22,
   "id": "f5cb7859",
   "metadata": {},
   "outputs": [],
   "source": [
    "def swap_if_zero(matrix, row):\n",
    "    if matrix[row][row] == 0:\n",
    "        for i in range(row + 1, len(matrix)):\n",
    "            if matrix[i][row] != 0:\n",
    "                matrix[row], matrix[i] = matrix[i], matrix[row]\n",
    "                return True\n",
    "        return False\n",
    "    return True"
   ]
  },
  {
   "cell_type": "code",
   "execution_count": 23,
   "id": "1cddc6de",
   "metadata": {},
   "outputs": [],
   "source": [
    "def work(matrix, row):\n",
    "    \n",
    "    n = len(matrix[0])\n",
    "    piovt = matrix[row][row]\n",
    "    \n",
    "    for i in range(n):\n",
    "        \n",
    "        matrix[row][i] = matrix[row][i] / piovt\n",
    "        \n",
    "    return matrix"
   ]
  },
  {
   "cell_type": "code",
   "execution_count": 24,
   "id": "cb239617",
   "metadata": {},
   "outputs": [],
   "source": [
    "def facto(matrix,row):\n",
    "    \n",
    "    rows = len(matrix)\n",
    "    n = len(matrix[0])\n",
    "    \n",
    "    for i in range(rows):\n",
    "        if i != row:\n",
    "            factor = matrix[i][row]\n",
    "            \n",
    "            for j in range(n):\n",
    "                \n",
    "                matrix[i][j] = matrix[i][j] - (factor * matrix[row][j])\n",
    "    \n",
    "    return matrix"
   ]
  },
  {
   "cell_type": "code",
   "execution_count": 25,
   "id": "e0d90906",
   "metadata": {},
   "outputs": [],
   "source": [
    "def makos(matrix):\n",
    "    rows = len(matrix)\n",
    "    for i in range(rows):\n",
    "        if not swap_if_zero(matrix, i):\n",
    "            raise ValueError(f\"Pivot is zero and cannot be fixed at row {i}\")\n",
    "        work(matrix, i)\n",
    "        facto(matrix, i)\n",
    "    return matrix"
   ]
  },
  {
   "cell_type": "code",
   "execution_count": null,
   "id": "c20c492b",
   "metadata": {},
   "outputs": [],
   "source": []
  }
 ],
 "metadata": {
  "kernelspec": {
   "display_name": "Python 3 (ipykernel)",
   "language": "python",
   "name": "python3"
  },
  "language_info": {
   "codemirror_mode": {
    "name": "ipython",
    "version": 3
   },
   "file_extension": ".py",
   "mimetype": "text/x-python",
   "name": "python",
   "nbconvert_exporter": "python",
   "pygments_lexer": "ipython3",
   "version": "3.11.5"
  }
 },
 "nbformat": 4,
 "nbformat_minor": 5
}
